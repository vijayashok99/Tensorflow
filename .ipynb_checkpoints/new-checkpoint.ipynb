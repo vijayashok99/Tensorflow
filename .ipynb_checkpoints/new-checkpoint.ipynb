{
 "cells": [
  {
   "cell_type": "code",
   "execution_count": 2,
   "metadata": {},
   "outputs": [],
   "source": [
    "import tensorflow as tf\n",
    "import numpy as np\n",
    "import math\n",
    "import matplotlib.pyplot as plt"
   ]
  },
  {
   "cell_type": "code",
   "execution_count": 3,
   "metadata": {},
   "outputs": [
    {
     "name": "stdout",
     "output_type": "stream",
     "text": [
      "[1426 1160 1430 1395 1344  421  766  630  387 1423 1171  430 1069  643\n",
      " 1105  685 1255  576 1484  759  321  552 1047 1156  774 1382  810  999\n",
      " 1275  489 1257  986 1257  862 1131 1454  946  320 1140  466  687  900\n",
      "  615  313  541 1076  864 1197  391 1255  808 1075  334  505 1404 1325\n",
      " 1321  865 1429 1002  701 1029  461  501 1295  569 1115  755 1316  595\n",
      " 1019  637 1178 1376 1091  516 1063  487  679  792 1364 1480  314  364\n",
      "  820 1452  947 1386 1462  892  691  718  588  678  530 1317  340 1351\n",
      "  434  500]\n"
     ]
    }
   ],
   "source": [
    "house_num=100\n",
    "np.random.seed(42)\n",
    "#random datas are given\n",
    "house_size=np.random.randint(low=300,high=1500,size=house_num)\n",
    "house_prize=house_size*100+np.random.randint(low=20000,high=80000,size=house_num)\n",
    "print(house_size)"
   ]
  },
  {
   "cell_type": "code",
   "execution_count": 4,
   "metadata": {},
   "outputs": [
    {
     "data": {
      "image/png": "[encoded data removed]",
      "text/plain": [
       "<Figure size 432x288 with 1 Axes>"
      ]
     },
     "metadata": {},
     "output_type": "display_data"
    }
   ],
   "source": [
    "plt.plot(house_size,house_prize,\"bx\")\n",
    "plt.xlabel(\"size\")\n",
    "plt.ylabel(\"prize\")\n",
    "plt.show()"
   ]
  },
  {
   "cell_type": "code",
   "execution_count": 5,
   "metadata": {},
   "outputs": [],
   "source": [
    "def normalize(array):#to normalize all features\n",
    "    return(array-array.mean())/array.std()"
   ]
  },
  {
   "cell_type": "code",
   "execution_count": 21,
   "metadata": {},
   "outputs": [],
   "source": [
    "#np.asmatrix([house_size])\n",
    "#print(house_size[0])"
   ]
  },
  {
   "cell_type": "code",
   "execution_count": 6,
   "metadata": {},
   "outputs": [
    {
     "name": "stdout",
     "output_type": "stream",
     "text": [
      "552\n"
     ]
    }
   ],
   "source": [
    "train_samples=math.ceil(house_num*0.7)#70% trai data\n",
    "train_data_size=np.array(house_size[:train_samples])\n",
    "train_data_prize=np.array(house_prize[:train_samples])\n",
    "\n",
    "test_data_size=np.array(house_size[train_samples:])\n",
    "test_data_prize=np.array(house_prize[train_samples:])\n",
    "print(train_data_size[21])"
   ]
  },
  {
   "cell_type": "code",
   "execution_count": 7,
   "metadata": {},
   "outputs": [],
   "source": [
    "train_data_size_norm=normalize(train_data_size)\n",
    "train_data_prize_norm=normalize(train_data_prize)\n",
    "\n",
    "test_data_size_norm=normalize(test_data_size)\n",
    "test_data_prize_norm=normalize(test_data_prize)"
   ]
  },
  {
   "cell_type": "code",
   "execution_count": 8,
   "metadata": {},
   "outputs": [],
   "source": [
    "tf_house_size=tf.placeholder(\"float\",name=\"house_size\")#to store data in future code\n",
    "tf_house_prize=tf.placeholder(\"float\",name='house_prize')"
   ]
  },
  {
   "cell_type": "code",
   "execution_count": 9,
   "metadata": {},
   "outputs": [],
   "source": [
    "tf_size_factor=tf.Variable(np.random.randn(),name=\"size_factor\")\n",
    "tf_prize_offset=tf.Variable(np.random.randn(),name=\"prize_offset\")\n",
    "#tf_prize_offset=0\n",
    "#tf_size_factor=0\n",
    "tf_theta=[tf_prize_offset,tf_size_factor]"
   ]
  },
  {
   "cell_type": "code",
   "execution_count": 10,
   "metadata": {},
   "outputs": [],
   "source": [
    "# y=theta0+x*theta1......as in coursera\n",
    "tf_prize_pre=tf.add(tf.multiply(tf_size_factor,tf_house_size),tf_prize_offset)"
   ]
  },
  {
   "cell_type": "code",
   "execution_count": 11,
   "metadata": {},
   "outputs": [],
   "source": [
    "#cost function (1/2m)*sum(pre_prize-actual_prize)^2\n",
    "tf_cost=tf.reduce_sum(tf.pow(tf_prize_pre-tf_house_prize,2)/(2*train_samples))"
   ]
  },
  {
   "cell_type": "code",
   "execution_count": 20,
   "metadata": {},
   "outputs": [],
   "source": [
    "lerning_rate=0.1\n",
    "\n",
    "def optimizer(tf_house_size,tf_house_prize):\n",
    "    m=train_samples\n",
    "    num_iters=100\n",
    "    for iters in range(1,num_iters):\n",
    "        tf_prize_offset=tf.subtract(tf_prize_offset,tf.multiply((tf.divide(learning_rate,m)),tf.reduce_sum(tf.multiply(tf.subtract(tf_prize_pre,tf_house_prize),1))))\n",
    "        tf_size_factor=tf.subtract(tf_size_factor,tf.multiply((tf.divide(learning_rate,m)),tf.reduce_sum(tf.multiply(tf.subtract(tf_prize_pre,tf_house_prize),tf_house_size[iters]))))\n",
    "        tf_cost"
   ]
  },
  {
   "cell_type": "code",
   "execution_count": 22,
   "metadata": {},
   "outputs": [
    {
     "ename": "UnboundLocalError",
     "evalue": "local variable 'tf_prize_offset' referenced before assignment",
     "output_type": "error",
     "traceback": [
      "\u001b[1;31m---------------------------------------------------------------------------\u001b[0m",
      "\u001b[1;31mUnboundLocalError\u001b[0m                         Traceback (most recent call last)",
      "\u001b[1;32m<ipython-input-22-ff5977483423>\u001b[0m in \u001b[0;36m<module>\u001b[1;34m()\u001b[0m\n\u001b[0;32m     13\u001b[0m         \u001b[1;31m#zip pass both x & y data @ same time\u001b[0m\u001b[1;33m\u001b[0m\u001b[1;33m\u001b[0m\u001b[0m\n\u001b[0;32m     14\u001b[0m         \u001b[1;32mfor\u001b[0m \u001b[1;33m(\u001b[0m\u001b[0mx\u001b[0m\u001b[1;33m,\u001b[0m\u001b[0my\u001b[0m\u001b[1;33m)\u001b[0m \u001b[1;32min\u001b[0m \u001b[0mzip\u001b[0m\u001b[1;33m(\u001b[0m\u001b[0mtrain_data_size_norm\u001b[0m\u001b[1;33m,\u001b[0m\u001b[0mtrain_data_prize_norm\u001b[0m\u001b[1;33m)\u001b[0m\u001b[1;33m:\u001b[0m\u001b[1;33m\u001b[0m\u001b[0m\n\u001b[1;32m---> 15\u001b[1;33m             \u001b[0msess\u001b[0m\u001b[1;33m.\u001b[0m\u001b[0mrun\u001b[0m\u001b[1;33m(\u001b[0m\u001b[0moptimizer\u001b[0m\u001b[1;33m(\u001b[0m\u001b[0mtf_house_size\u001b[0m\u001b[1;33m,\u001b[0m\u001b[0mtf_house_prize\u001b[0m \u001b[1;33m)\u001b[0m\u001b[1;33m)\u001b[0m\u001b[1;33m\u001b[0m\u001b[0m\n\u001b[0m\u001b[0;32m     16\u001b[0m \u001b[1;33m\u001b[0m\u001b[0m\n\u001b[0;32m     17\u001b[0m \u001b[1;33m\u001b[0m\u001b[0m\n",
      "\u001b[1;32m<ipython-input-20-66048548eae5>\u001b[0m in \u001b[0;36moptimizer\u001b[1;34m(tf_house_size, tf_house_prize)\u001b[0m\n\u001b[0;32m      5\u001b[0m     \u001b[0mnum_iters\u001b[0m\u001b[1;33m=\u001b[0m\u001b[1;36m100\u001b[0m\u001b[1;33m\u001b[0m\u001b[0m\n\u001b[0;32m      6\u001b[0m     \u001b[1;32mfor\u001b[0m \u001b[0miters\u001b[0m \u001b[1;32min\u001b[0m \u001b[0mrange\u001b[0m\u001b[1;33m(\u001b[0m\u001b[1;36m1\u001b[0m\u001b[1;33m,\u001b[0m\u001b[0mnum_iters\u001b[0m\u001b[1;33m)\u001b[0m\u001b[1;33m:\u001b[0m\u001b[1;33m\u001b[0m\u001b[0m\n\u001b[1;32m----> 7\u001b[1;33m         \u001b[0mtf_prize_offset\u001b[0m\u001b[1;33m=\u001b[0m\u001b[0mtf\u001b[0m\u001b[1;33m.\u001b[0m\u001b[0msubtract\u001b[0m\u001b[1;33m(\u001b[0m\u001b[0mtf_prize_offset\u001b[0m\u001b[1;33m,\u001b[0m\u001b[0mtf\u001b[0m\u001b[1;33m.\u001b[0m\u001b[0mmultiply\u001b[0m\u001b[1;33m(\u001b[0m\u001b[1;33m(\u001b[0m\u001b[0mtf\u001b[0m\u001b[1;33m.\u001b[0m\u001b[0mdivide\u001b[0m\u001b[1;33m(\u001b[0m\u001b[0mlearning_rate\u001b[0m\u001b[1;33m,\u001b[0m\u001b[0mm\u001b[0m\u001b[1;33m)\u001b[0m\u001b[1;33m)\u001b[0m\u001b[1;33m,\u001b[0m\u001b[0mtf\u001b[0m\u001b[1;33m.\u001b[0m\u001b[0mreduce_sum\u001b[0m\u001b[1;33m(\u001b[0m\u001b[0mtf\u001b[0m\u001b[1;33m.\u001b[0m\u001b[0mmultiply\u001b[0m\u001b[1;33m(\u001b[0m\u001b[0mtf\u001b[0m\u001b[1;33m.\u001b[0m\u001b[0msubtract\u001b[0m\u001b[1;33m(\u001b[0m\u001b[0mtf_prize_pre\u001b[0m\u001b[1;33m,\u001b[0m\u001b[0mtf_house_prize\u001b[0m\u001b[1;33m)\u001b[0m\u001b[1;33m,\u001b[0m\u001b[1;36m1\u001b[0m\u001b[1;33m)\u001b[0m\u001b[1;33m)\u001b[0m\u001b[1;33m)\u001b[0m\u001b[1;33m)\u001b[0m\u001b[1;33m\u001b[0m\u001b[0m\n\u001b[0m\u001b[0;32m      8\u001b[0m         \u001b[0mtf_size_factor\u001b[0m\u001b[1;33m=\u001b[0m\u001b[0mtf\u001b[0m\u001b[1;33m.\u001b[0m\u001b[0msubtract\u001b[0m\u001b[1;33m(\u001b[0m\u001b[0mtf_size_factor\u001b[0m\u001b[1;33m,\u001b[0m\u001b[0mtf\u001b[0m\u001b[1;33m.\u001b[0m\u001b[0mmultiply\u001b[0m\u001b[1;33m(\u001b[0m\u001b[1;33m(\u001b[0m\u001b[0mtf\u001b[0m\u001b[1;33m.\u001b[0m\u001b[0mdivide\u001b[0m\u001b[1;33m(\u001b[0m\u001b[0mlearning_rate\u001b[0m\u001b[1;33m,\u001b[0m\u001b[0mm\u001b[0m\u001b[1;33m)\u001b[0m\u001b[1;33m)\u001b[0m\u001b[1;33m,\u001b[0m\u001b[0mtf\u001b[0m\u001b[1;33m.\u001b[0m\u001b[0mreduce_sum\u001b[0m\u001b[1;33m(\u001b[0m\u001b[0mtf\u001b[0m\u001b[1;33m.\u001b[0m\u001b[0mmultiply\u001b[0m\u001b[1;33m(\u001b[0m\u001b[0mtf\u001b[0m\u001b[1;33m.\u001b[0m\u001b[0msubtract\u001b[0m\u001b[1;33m(\u001b[0m\u001b[0mtf_prize_pre\u001b[0m\u001b[1;33m,\u001b[0m\u001b[0mtf_house_prize\u001b[0m\u001b[1;33m)\u001b[0m\u001b[1;33m,\u001b[0m\u001b[0mtf_house_size\u001b[0m\u001b[1;33m[\u001b[0m\u001b[0miters\u001b[0m\u001b[1;33m]\u001b[0m\u001b[1;33m)\u001b[0m\u001b[1;33m)\u001b[0m\u001b[1;33m)\u001b[0m\u001b[1;33m)\u001b[0m\u001b[1;33m\u001b[0m\u001b[0m\n\u001b[0;32m      9\u001b[0m         \u001b[0mtf_cost\u001b[0m\u001b[1;33m\u001b[0m\u001b[0m\n",
      "\u001b[1;31mUnboundLocalError\u001b[0m: local variable 'tf_prize_offset' referenced before assignment"
     ]
    }
   ],
   "source": [
    "#we didn't give datas for size_factor,prize_offset..... so we initializeas global and this values takecare by the optimizer\n",
    "init=tf.global_variables_initializer()\n",
    "tf_prize_offset=0\n",
    "#run graph as session bec session allocates memory for variables in real time but graph simply plots the data\n",
    "with tf.Session() as sess:\n",
    "    sess.run(init)\n",
    "    display_every=2\n",
    "    iter_num=50\n",
    "    \n",
    "    \n",
    "    for iteration in range(iter_num):\n",
    "        \n",
    "        #in this we just giving data from ..._norm to tf_house_size & ...norm to ...prize simultaneously by zip\n",
    "        #zip pass both x & y data @ same time\n",
    "        for (x,y) in zip(train_data_size_norm,train_data_prize_norm):\n",
    "            sess.run(optimizer(tf_house_size,tf_house_prize ))\n",
    "               \n",
    "        \n",
    "        if(iteration+1)%display_every==0:#to display every second iteration(2,4,6....)\n",
    "            #in this we run cost function in session \n",
    "            \n",
    "            c=sess.run(tf_cost,feed_dict={tf_house_size:train_data_size_norm,tf_house_prize:train_data_prize_norm})\n",
    "            print(\"cost=\",c,\"size_factor=\",sess.run(tf_size_factor),\"prize_offset\",sess.run(tf_prize_offset))\n",
    "    #to store the last trained value\n",
    "    training_cost=sess.run(tf_cost,feed_dict={tf_house_size:train_data_size_norm,tf_house_prize:train_data_prize_norm})\n",
    "    print(\"training_cost=\",training_cost,\"size_factor=\",sess.run(tf_size_factor),\"prize_offset\",sess.run(tf_prize_offset))\n",
    "    \n",
    "    \n",
    "    train_data_size_mean=train_data_size.mean()\n",
    "    train_data_size_std=train_data_size.std()\n",
    "\n",
    "    train_data_prize_mean=train_data_prize.mean()\n",
    "    train_data_prize_std=train_data_prize.std()\n",
    "    \n",
    "    plt.plot(train_data_size,train_data_prize,\"bx\",label=\"Training data\")\n",
    "    plt.plot(test_data_size,test_data_prize,\"rx\",label=\"Testing data\")\n",
    "\n",
    "    \n",
    "    \n",
    "    plt.plot(train_data_size_norm*train_data_size_std+train_data_size_mean,\n",
    "             (sess.run(tf_size_factor)*train_data_size_norm+sess.run(tf_prize_offset))*train_data_prize_std+train_data_prize_mean)\n",
    "    \n",
    "    plt.show()\n",
    "\n",
    "            \n"
   ]
  },
  {
   "cell_type": "code",
   "execution_count": null,
   "metadata": {},
   "outputs": [],
   "source": []
  },
  {
   "cell_type": "code",
   "execution_count": null,
   "metadata": {},
   "outputs": [],
   "source": []
  },
  {
   "cell_type": "code",
   "execution_count": null,
   "metadata": {},
   "outputs": [],
   "source": []
  },
  {
   "cell_type": "code",
   "execution_count": null,
   "metadata": {},
   "outputs": [],
   "source": []
  },
  {
   "cell_type": "code",
   "execution_count": null,
   "metadata": {},
   "outputs": [],
   "source": []
  }
 ],
 "metadata": {
  "kernelspec": {
   "display_name": "Python 3",
   "language": "python",
   "name": "python3"
  },
  "language_info": {
   "codemirror_mode": {
    "name": "ipython",
    "version": 3
   },
   "file_extension": ".py",
   "mimetype": "text/x-python",
   "name": "python",
   "nbconvert_exporter": "python",
   "pygments_lexer": "ipython3",
   "version": "3.6.5"
  }
 },
 "nbformat": 4,
 "nbformat_minor": 2
}
