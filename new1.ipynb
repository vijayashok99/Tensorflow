{
 "cells": [
  {
   "cell_type": "code",
   "execution_count": 461,
   "metadata": {},
   "outputs": [],
   "source": [
    "import numpy as np\n",
    "import math\n",
    "import pandas as pd\n",
    "import matplotlib.pyplot as plt\n"
   ]
  },
  {
   "cell_type": "code",
   "execution_count": 593,
   "metadata": {},
   "outputs": [
    {
     "data": {
      "image/png": "[encoded data removed]",
      "text/plain": [
       "<Figure size 432x288 with 1 Axes>"
      ]
     },
     "metadata": {},
     "output_type": "display_data"
    }
   ],
   "source": [
    "train=pd.read_csv(\"ex1data1.txt\")#csv can also used to read text files\n",
    "#print(train)#to debug print can be used\n",
    "\n",
    "x=(train.values[:,0])\n",
    "x=np.asmatrix(x)#x(array) converted to (x)matrix\n",
    "x=np.ndarray.transpose(x)\n",
    "x.shape\n",
    "o=np.ones((x.shape))\n",
    "x=np.column_stack((o,x))#used to concatinate\n",
    "#print(x)\n",
    "#print(x.shape)\n",
    "y=train.values[:,1]\n",
    "y=np.asmatrix(y)\n",
    "y=np.ndarray.transpose(y)\n",
    "#print(y)\n",
    "#print(y.shape)\n",
    "\n",
    "plt.plot(x[:,1],y,\"bx\")\n",
    "plt.show()"
   ]
  },
  {
   "cell_type": "code",
   "execution_count": 594,
   "metadata": {},
   "outputs": [
    {
     "data": {
      "text/plain": [
       "30.680375558875795"
      ]
     },
     "execution_count": 594,
     "metadata": {},
     "output_type": "execute_result"
    }
   ],
   "source": [
    "theta=np.zeros((2,1),dtype=int)\n",
    "#theta=np.matrix('-1;2')\n",
    "#print(theta)\n",
    "\n",
    "def cost(x,y,theta):\n",
    "    global J\n",
    "    predictions=np.dot(x,theta)\n",
    "    #print(predictions)\n",
    "    pre_error=np.subtract(predictions,y)\n",
    "    #print(pre_error)\n",
    "    sqr=np.square(pre_error)\n",
    "    #print(sqr)\n",
    "    m=np.size(x,0)\n",
    "    #print(m)\n",
    "    J = (1/(2*m))*(np.sum(sqr))\n",
    "    return J\n",
    "cost(x,y,theta)\n"
   ]
  },
  {
   "cell_type": "code",
   "execution_count": 595,
   "metadata": {},
   "outputs": [
    {
     "name": "stdout",
     "output_type": "stream",
     "text": [
      "[[-2.57358418]\n",
      " [ 1.04529622]]\n",
      "3.559\n"
     ]
    }
   ],
   "source": [
    "J_history=np.zeros((1000,1),dtype=int)\n",
    "global theta\n",
    "def gradientDescent(x,y,theta,alpha,num_iters):\n",
    "    m=np.size(x,0)\n",
    "    #print(m)\n",
    "    \n",
    "    for i in range(num_iters):\n",
    "        global final_theta\n",
    "        global J_history\n",
    "        predictions=np.dot(x,theta)\n",
    "        #print(predictions)\n",
    "        pre_error=np.subtract(predictions,y)\n",
    "        #print(\"pre_error\",pre_error)\n",
    "        trans=(np.transpose(x))\n",
    "        total=np.dot(trans,pre_error)\n",
    "        #print(\"total\",total)\n",
    "        #print(\"sum\",sum(total))\n",
    "        descent=(alpha/m)*(total)\n",
    "        #print(\"descent\",descent)\n",
    "        #theta=np.subtract(theta,descent)#it can also be used to sub\n",
    "        theta=theta-descent\n",
    "        #print(\"theta\",theta)\n",
    "        #print()\n",
    "        J_history=cost(x,y,theta)\n",
    "        #print(J_history)\n",
    "        final_theta=theta\n",
    "        \n",
    "        \n",
    "        \n",
    "gradientDescent(x,y,theta,0.001,5000)\n",
    "\n",
    "#print(\"%.3f\"%J_history)\n",
    "print(final_theta)\n",
    "print(\"%.3f\"%(J))"
   ]
  },
  {
   "cell_type": "code",
   "execution_count": 592,
   "metadata": {},
   "outputs": [
    {
     "data": {
      "text/plain": [
       "[<matplotlib.lines.Line2D at 0x1cf0aec1a20>]"
      ]
     },
     "execution_count": 592,
     "metadata": {},
     "output_type": "execute_result"
    },
    {
     "data": {
      "image/png": "[encoded data removed]",
      "text/plain": [
       "<Figure size 432x288 with 1 Axes>"
      ]
     },
     "metadata": {},
     "output_type": "display_data"
    }
   ],
   "source": [
    "plt.plot(x[:,1], y,\"bx\")\n",
    "\n",
    "y= final_theta[0] +  np.matrix(x[:,1])*final_theta[1]\n",
    "plt.plot(x[:,1], y, '--')"
   ]
  },
  {
   "cell_type": "code",
   "execution_count": null,
   "metadata": {},
   "outputs": [],
   "source": []
  },
  {
   "cell_type": "code",
   "execution_count": null,
   "metadata": {},
   "outputs": [],
   "source": []
  },
  {
   "cell_type": "code",
   "execution_count": null,
   "metadata": {},
   "outputs": [],
   "source": []
  },
  {
   "cell_type": "code",
   "execution_count": null,
   "metadata": {},
   "outputs": [],
   "source": []
  }
 ],
 "metadata": {
  "kernelspec": {
   "display_name": "Python 3",
   "language": "python",
   "name": "python3"
  },
  "language_info": {
   "codemirror_mode": {
    "name": "ipython",
    "version": 3
   },
   "file_extension": ".py",
   "mimetype": "text/x-python",
   "name": "python",
   "nbconvert_exporter": "python",
   "pygments_lexer": "ipython3",
   "version": "3.6.5"
  }
 },
 "nbformat": 4,
 "nbformat_minor": 2
}
